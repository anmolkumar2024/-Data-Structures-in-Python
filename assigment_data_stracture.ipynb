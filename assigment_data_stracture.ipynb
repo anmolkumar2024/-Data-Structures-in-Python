{
  "cells": [
    {
      "cell_type": "markdown",
      "metadata": {
        "id": "view-in-github",
        "colab_type": "text"
      },
      "source": [
        "<a href=\"https://colab.research.google.com/github/anmolkumar2024/-Data-Structures-in-Python/blob/main/assigment_data_stracture.ipynb\" target=\"_parent\"><img src=\"https://colab.research.google.com/assets/colab-badge.svg\" alt=\"Open In Colab\"/></a>"
      ]
    },
    {
      "cell_type": "markdown",
      "metadata": {
        "id": "yut_pScbb8wI"
      },
      "source": [
        "#Assignments:   Data structures in python"
      ]
    },
    {
      "cell_type": "code",
      "source": [
        "pip install -U kaleido"
      ],
      "metadata": {
        "colab": {
          "base_uri": "https://localhost:8080/"
        },
        "id": "VgpEndZuR8uZ",
        "outputId": "0edfbbc9-26a6-4524-b2a4-d22e3001758b"
      },
      "execution_count": null,
      "outputs": [
        {
          "output_type": "stream",
          "name": "stdout",
          "text": [
            "Requirement already satisfied: kaleido in /usr/local/lib/python3.11/dist-packages (1.0.0)\n",
            "Requirement already satisfied: choreographer>=1.0.5 in /usr/local/lib/python3.11/dist-packages (from kaleido) (1.0.9)\n",
            "Requirement already satisfied: logistro>=1.0.8 in /usr/local/lib/python3.11/dist-packages (from kaleido) (1.1.0)\n",
            "Requirement already satisfied: orjson>=3.10.15 in /usr/local/lib/python3.11/dist-packages (from kaleido) (3.10.18)\n",
            "Requirement already satisfied: packaging in /usr/local/lib/python3.11/dist-packages (from kaleido) (24.2)\n",
            "Requirement already satisfied: simplejson>=3.19.3 in /usr/local/lib/python3.11/dist-packages (from choreographer>=1.0.5->kaleido) (3.20.1)\n"
          ]
        }
      ]
    },
    {
      "cell_type": "code",
      "execution_count": null,
      "metadata": {
        "id": "ICUdSHkScI04",
        "colab": {
          "base_uri": "https://localhost:8080/"
        },
        "outputId": "2f3bd986-5f8d-4e00-cfd9-0fc8c85825d5"
      },
      "outputs": [
        {
          "output_type": "stream",
          "name": "stdout",
          "text": [
            "['interchange', 'information', 'for', 'code', 'standaerd', 'american']\n"
          ]
        }
      ],
      "source": [
        "# 1. Write a code to reverse a string.\n",
        "\n",
        "str = [\"american\",\"standaerd\",\"code\",\"for\",\"information\",\"interchange\"]\n",
        "\n",
        "str.reverse()\n",
        "print(str)"
      ]
    },
    {
      "cell_type": "code",
      "execution_count": null,
      "metadata": {
        "id": "VvPMfFRvdS4w",
        "colab": {
          "base_uri": "https://localhost:8080/"
        },
        "outputId": "a3f4d962-73e6-482f-e8b3-65d913e3535a"
      },
      "outputs": [
        {
          "output_type": "stream",
          "name": "stdout",
          "text": [
            "Enter a character: a\n",
            "Vowel count: 1\n"
          ]
        }
      ],
      "source": [
        "# 2. Write a code to count the number of vowels in a string.\n",
        "vowels = \"aeiouAEIOU\"\n",
        "char = input(\"Enter a character: \")\n",
        "count = 0\n",
        "\n",
        "if char in vowels:\n",
        "    count += 1\n",
        "    print(\"Vowel count:\", count)\n",
        "else:\n",
        "    print(\"no\")\n"
      ]
    },
    {
      "cell_type": "code",
      "execution_count": null,
      "metadata": {
        "id": "qbDvXnacgWYQ",
        "colab": {
          "base_uri": "https://localhost:8080/"
        },
        "outputId": "ea550199-43f9-4519-b9dc-51056fe48e45"
      },
      "outputs": [
        {
          "output_type": "stream",
          "name": "stdout",
          "text": [
            "Enter the first string : an\n",
            "Enter the second string : ab\n",
            "\n",
            "this string is not palindrome\n"
          ]
        }
      ],
      "source": [
        "# 3. Write a code to check if a given string is a palindrome or not.\n",
        "\n",
        "str1 = input(\"Enter the first string : \")\n",
        "str2 = input(\"Enter the second string : \")\n",
        "print()\n",
        "\n",
        "if(str1 == str2):\n",
        "  print(\" This string is palindrome\")\n",
        "else:\n",
        "  print(\"this string is not palindrome\")\n"
      ]
    },
    {
      "cell_type": "code",
      "execution_count": null,
      "metadata": {
        "id": "szFAOsZwvb8k",
        "colab": {
          "base_uri": "https://localhost:8080/"
        },
        "outputId": "bff25832-259d-4af4-c7bc-8956de7fef25"
      },
      "outputs": [
        {
          "output_type": "stream",
          "name": "stdout",
          "text": [
            "yes\n"
          ]
        }
      ],
      "source": [
        "# 4. Write a code to check if two given strings are anagrams of each other..\n",
        "\n",
        "str1 = \"Act\"\n",
        "str2 = \"cAt\"\n",
        "\n",
        "if sorted(str1) == sorted(str2):\n",
        "  print(\"yes\")\n",
        "\n",
        "else:\n",
        "  print(\"no\")\n"
      ]
    },
    {
      "cell_type": "code",
      "execution_count": null,
      "metadata": {
        "id": "WkKJQKg-vb_t",
        "colab": {
          "base_uri": "https://localhost:8080/"
        },
        "outputId": "8211b1e8-0213-4d81-d4fd-a56f8fc570af"
      },
      "outputs": [
        {
          "output_type": "stream",
          "name": "stdout",
          "text": [
            "[0, 13]\n"
          ]
        }
      ],
      "source": [
        "# 5 Write a code to find all occurrences of a given substring within another string.\n",
        "import re\n",
        "\n",
        "# Define the input string and substring\n",
        "s = \"hello world, hello universe\"\n",
        "substring = \"hello\"\n",
        "\n",
        "# Find all occurrences using re.finditer\n",
        "positions = [match.start() for match in re.finditer(substring, s)]\n",
        "\n",
        "print(positions)"
      ]
    },
    {
      "cell_type": "markdown",
      "source": [],
      "metadata": {
        "id": "kIly4NRhBNi3"
      }
    },
    {
      "cell_type": "code",
      "execution_count": null,
      "metadata": {
        "id": "2IQPZQRevcGu",
        "colab": {
          "base_uri": "https://localhost:8080/"
        },
        "outputId": "036d43fb-2ef3-4300-c4d8-750e92b9d8e3"
      },
      "outputs": [
        {
          "output_type": "stream",
          "name": "stdout",
          "text": [
            "True\n"
          ]
        }
      ],
      "source": [
        "# 7. Write a code to determine if a string has all unique characters.\n",
        "from collections import Counter\n",
        "\n",
        "\n",
        "def isUniqueChars(string):\n",
        "\n",
        "    # Counting frequency\n",
        "    freq = Counter(string)\n",
        "\n",
        "    if(len(freq) == len(string)):\n",
        "        return True\n",
        "    else:\n",
        "        return False\n",
        "\n",
        "# driver code\n",
        "st = \"abcd\"\n",
        "print(isUniqueChars(st))\n",
        "\n"
      ]
    },
    {
      "cell_type": "code",
      "execution_count": null,
      "metadata": {
        "id": "_PvAZGvMvcJu",
        "colab": {
          "base_uri": "https://localhost:8080/"
        },
        "outputId": "850571d2-1ab0-4a59-f54f-7ab4f14094e7"
      },
      "outputs": [
        {
          "output_type": "stream",
          "name": "stdout",
          "text": [
            "I LOVE INDIA\n",
            "\n",
            "i love india\n"
          ]
        }
      ],
      "source": [
        "# 8.Write a code to convert a given string to uppercase or lowercase\n",
        "\n",
        "str1 = \"i love india\"\n",
        "s = str1.upper()\n",
        "print(s)\n",
        "\n",
        "print()\n",
        "\n",
        "str2 = \"I LOVE INDIA\"\n",
        "s1 = str2.lower()\n",
        "print(s1)"
      ]
    },
    {
      "cell_type": "code",
      "execution_count": null,
      "metadata": {
        "id": "6r4PXggSvcOS",
        "colab": {
          "base_uri": "https://localhost:8080/"
        },
        "outputId": "397b3dda-5981-4bd5-ec1e-6195088454e8"
      },
      "outputs": [
        {
          "output_type": "stream",
          "name": "stdout",
          "text": [
            "3\n"
          ]
        }
      ],
      "source": [
        "# 9. Write a code to count the number of words in a string\n",
        "\n",
        "word = (\"banana\",\"apple\",\"banana\",\"orange\",\"banana\",\"mango\")\n",
        "s = word.count(\"banana\")\n",
        "print(s)"
      ]
    },
    {
      "cell_type": "code",
      "execution_count": null,
      "metadata": {
        "id": "mgk3ExHMvcS-",
        "colab": {
          "base_uri": "https://localhost:8080/"
        },
        "outputId": "ee25af6d-45d3-44e8-a36d-299f2fef059b"
      },
      "outputs": [
        {
          "output_type": "stream",
          "name": "stdout",
          "text": [
            "DATA,ANALYTICS\n"
          ]
        }
      ],
      "source": [
        "# 10. Write a code to concatenate two strings without using the + operator\n",
        "\n",
        "str1 = \"DATA\"\n",
        "str2 = \"ANALYTICS\"\n",
        "str3 =\"{},{}\".format(str1,str2)\n",
        "print(str3)"
      ]
    },
    {
      "cell_type": "code",
      "execution_count": null,
      "metadata": {
        "id": "1tYhC5vqvcVt",
        "colab": {
          "base_uri": "https://localhost:8080/"
        },
        "outputId": "c7adfe17-744b-432f-bfac-7413d93df0a8"
      },
      "outputs": [
        {
          "output_type": "stream",
          "name": "stdout",
          "text": [
            "['I AM FROM INDIA']\n"
          ]
        }
      ],
      "source": [
        "# 11. Write a code to remove all occurrences of a specific element from a list\n",
        "\n",
        "name = [\"I AM FROM INDIA\",\"UNITED STATE\"]\n",
        "name.remove(\"UNITED STATE\")\n",
        "print(name)"
      ]
    },
    {
      "cell_type": "code",
      "execution_count": null,
      "metadata": {
        "id": "FiS-mzT6vcYX",
        "colab": {
          "base_uri": "https://localhost:8080/"
        },
        "outputId": "405d4812-af5e-4177-e803-98f5e41ff958"
      },
      "outputs": [
        {
          "output_type": "stream",
          "name": "stdout",
          "text": [
            "[11, 22, 33, 44, 555]\n",
            "second largest number is: 44\n"
          ]
        }
      ],
      "source": [
        "# 12. Implement a code to find the second largest number in a given list of integers\n",
        "\n",
        "num  = [11,22,33,44,555]\n",
        "num.sort()\n",
        "print(num)\n",
        "print(\"second largest number is:\",num[-2])\n",
        "\n",
        "\n"
      ]
    },
    {
      "cell_type": "code",
      "execution_count": null,
      "metadata": {
        "id": "YZrHJsXHvca-",
        "colab": {
          "base_uri": "https://localhost:8080/"
        },
        "outputId": "a6221527-87ee-4e9c-8cec-2bdc524c4d93"
      },
      "outputs": [
        {
          "output_type": "stream",
          "name": "stdout",
          "text": [
            "{'apple': 3, 'banana': 2, 'orange': 1}\n"
          ]
        }
      ],
      "source": [
        "# 13. Create a code to count the occurrences of each element in a list and return a dictionary\n",
        "#     with elements as keys and their counts as values\n",
        "def count_elements(lst):\n",
        "    count_dict = {}\n",
        "    for item in lst:\n",
        "        if item in count_dict:\n",
        "            count_dict[item] += 1\n",
        "        else:\n",
        "            count_dict[item] = 1\n",
        "    return count_dict\n",
        "\n",
        "# Example usage\n",
        "my_list = ['apple', 'banana', 'apple', 'orange', 'banana', 'apple']\n",
        "result = count_elements(my_list)\n",
        "print(result)\n",
        "\n",
        "\n",
        "\n"
      ]
    },
    {
      "cell_type": "code",
      "execution_count": null,
      "metadata": {
        "id": "8yBjuR4Vvcdl",
        "colab": {
          "base_uri": "https://localhost:8080/"
        },
        "outputId": "5b89f62d-65cf-4cd5-a2ae-3ec19fae4087"
      },
      "outputs": [
        {
          "output_type": "stream",
          "name": "stdout",
          "text": [
            "[5, 4, 3, 2, 1]\n"
          ]
        }
      ],
      "source": [
        "# 14. Write a code to reverse a list in-place without using any built-in reverse functions\n",
        "a = [1, 2, 3, 4, 5]\n",
        "\n",
        "# Reversing using slicing\n",
        "a_reversed = a[::-1]\n",
        "print(a_reversed)"
      ]
    },
    {
      "cell_type": "code",
      "execution_count": null,
      "metadata": {
        "id": "y7_EoYpIvcgM",
        "colab": {
          "base_uri": "https://localhost:8080/"
        },
        "outputId": "b25f43f8-e49f-48a8-8bfd-5a2c0f99228d"
      },
      "outputs": [
        {
          "output_type": "stream",
          "name": "stdout",
          "text": [
            "[1, 2, 3, 4, 5]\n"
          ]
        }
      ],
      "source": [
        "# 15. Implement a code to find and remove duplicates from a list while preserving the original order of elements\n",
        "a = [1, 2, 2, 3, 4, 4, 5]\n",
        "\n",
        "b = list(dict.fromkeys(a))\n",
        "print(b)"
      ]
    },
    {
      "cell_type": "code",
      "execution_count": null,
      "metadata": {
        "id": "JWgR3rONvclO",
        "colab": {
          "base_uri": "https://localhost:8080/"
        },
        "outputId": "92028225-62e1-4a31-b970-6b6d1e397717"
      },
      "outputs": [
        {
          "output_type": "stream",
          "name": "stdout",
          "text": [
            "True\n",
            "False\n"
          ]
        }
      ],
      "source": [
        "# 16. Create a code to check if a given list is sorted (either in ascending or descending order) or not\n",
        "a = [1, 2, 3, 4, 5]\n",
        "b = [5, 4, 3, 2, 1]\n",
        "\n",
        "# Here, sorted(), sort list in ascending order\n",
        "print(a == sorted(a))\n",
        "print(b == sorted(b))"
      ]
    },
    {
      "cell_type": "code",
      "execution_count": null,
      "metadata": {
        "id": "wwE_SgD-vcpd",
        "colab": {
          "base_uri": "https://localhost:8080/"
        },
        "outputId": "3badef8d-29f5-4e9b-a7e1-6c45d7135b7d"
      },
      "outputs": [
        {
          "output_type": "stream",
          "name": "stdout",
          "text": [
            "[1, 2, 3, 4, 5, 6]\n"
          ]
        }
      ],
      "source": [
        "# 17. Write a code to merge two sorted lists into a single sorted list\n",
        "a = [1, 3, 5]\n",
        "b = [2, 4, 6]\n",
        "\n",
        "c = sorted(a + b)\n",
        "print(c)"
      ]
    },
    {
      "cell_type": "code",
      "execution_count": null,
      "metadata": {
        "id": "U5PGLdoevcsH",
        "colab": {
          "base_uri": "https://localhost:8080/"
        },
        "outputId": "f7e5df43-eb25-4e92-8315-819584513932"
      },
      "outputs": [
        {
          "output_type": "stream",
          "name": "stdout",
          "text": [
            "[9, 26, 11, 28]\n"
          ]
        }
      ],
      "source": [
        "# 18. Implement a code to find the intersection of two given lists\n",
        "a = [4, 9, 1, 17, 11, 26, 28, 54, 69]\n",
        "b = [9, 9, 74, 21, 45, 11, 63, 28, 26]\n",
        "\n",
        "res = list(set(a) & set(b))\n",
        "print(res)"
      ]
    },
    {
      "cell_type": "code",
      "execution_count": null,
      "metadata": {
        "id": "4nh6bOQrvcun",
        "colab": {
          "base_uri": "https://localhost:8080/"
        },
        "outputId": "5efa2690-69d7-49da-9b85-71f2f281066d"
      },
      "outputs": [
        {
          "output_type": "stream",
          "name": "stdout",
          "text": [
            "[1, 2, 3, 4, 3, 4, 5, 6]\n"
          ]
        }
      ],
      "source": [
        "# 19. Create a code to find the union of two lists without duplicates\n",
        "a = [1, 2, 3, 4]\n",
        "b = [3, 4, 5, 6]\n",
        "\n",
        "# Concatenate the lists\n",
        "union_list = a + b\n",
        "\n",
        "print(union_list)"
      ]
    },
    {
      "cell_type": "code",
      "execution_count": null,
      "metadata": {
        "id": "LwYCM5IYvcxl",
        "colab": {
          "base_uri": "https://localhost:8080/"
        },
        "outputId": "dd048ed6-65bc-46bb-e347-70f4b3460d45"
      },
      "outputs": [
        {
          "output_type": "stream",
          "name": "stdout",
          "text": [
            "[4, 2, 5, 3, 1]\n"
          ]
        }
      ],
      "source": [
        "# 20. Write a code to shuffle a given list randomly without using any built-in shuffle functions\n",
        "import random\n",
        "\n",
        "a = [1, 2, 3, 4, 5]\n",
        "random.shuffle(a)\n",
        "print(a)"
      ]
    },
    {
      "cell_type": "code",
      "execution_count": null,
      "metadata": {
        "id": "GlSfrYCgvc0J",
        "colab": {
          "base_uri": "https://localhost:8080/"
        },
        "outputId": "64328632-5e95-4b5e-e200-4fceaca73a3b"
      },
      "outputs": [
        {
          "output_type": "stream",
          "name": "stdout",
          "text": [
            "[(4, 7), (7, 4), (4, 8), (8, 4), (5, 7), (7, 5), (5, 8), (8, 5)]\n"
          ]
        }
      ],
      "source": [
        "# 21. Write a code that takes two tuples as input and returns a new tuple containing elements that are common to both input tuples\n",
        "# input\n",
        "tuple1 = (4, 5)\n",
        "tuple2 = (7, 8)\n",
        "\n",
        "filtered_tuples = []\n",
        "\n",
        "for element1 in tuple1:\n",
        "    for element2 in tuple2:\n",
        "\n",
        "        filtered_tuples.append((element1, element2))\n",
        "\n",
        "        filtered_tuples.append((element2, element1))\n",
        "print(filtered_tuples)"
      ]
    },
    {
      "cell_type": "code",
      "execution_count": null,
      "metadata": {
        "id": "Y5fmf_eivc2w",
        "colab": {
          "base_uri": "https://localhost:8080/"
        },
        "outputId": "8bf2bd72-b255-448c-f408-b5470f45144f"
      },
      "outputs": [
        {
          "output_type": "stream",
          "name": "stdout",
          "text": [
            "{2, 3}\n"
          ]
        }
      ],
      "source": [
        "# 22. Create a code that prompts the user to enter two sets of integers separated by commas. Then, print the intersection of these two sets\n",
        "s1 = {1, 2, 3}\n",
        "s2 = {2, 3}\n",
        "print(s1.intersection(s2))"
      ]
    },
    {
      "cell_type": "code",
      "execution_count": null,
      "metadata": {
        "id": "28sNFU9Uvc5e",
        "colab": {
          "base_uri": "https://localhost:8080/",
          "height": 211
        },
        "collapsed": true,
        "outputId": "90c162c7-0c02-405c-db4c-5d135eb75222"
      },
      "outputs": [
        {
          "output_type": "error",
          "ename": "TypeError",
          "evalue": "'list' object is not callable",
          "traceback": [
            "\u001b[0;31m---------------------------------------------------------------------------\u001b[0m",
            "\u001b[0;31mTypeError\u001b[0m                                 Traceback (most recent call last)",
            "\u001b[0;32m/tmp/ipython-input-37-1991489206.py\u001b[0m in \u001b[0;36m<cell line: 0>\u001b[0;34m()\u001b[0m\n\u001b[1;32m      6\u001b[0m \u001b[0;34m\u001b[0m\u001b[0m\n\u001b[1;32m      7\u001b[0m \u001b[0;31m# printing original tuples\u001b[0m\u001b[0;34m\u001b[0m\u001b[0;34m\u001b[0m\u001b[0m\n\u001b[0;32m----> 8\u001b[0;31m \u001b[0mprint\u001b[0m\u001b[0;34m(\u001b[0m\u001b[0;34m\"The original tuple 1 : \"\u001b[0m \u001b[0;34m+\u001b[0m \u001b[0mstr\u001b[0m\u001b[0;34m(\u001b[0m\u001b[0mtest_tup1\u001b[0m\u001b[0;34m)\u001b[0m\u001b[0;34m)\u001b[0m\u001b[0;34m\u001b[0m\u001b[0;34m\u001b[0m\u001b[0m\n\u001b[0m\u001b[1;32m      9\u001b[0m \u001b[0mprint\u001b[0m\u001b[0;34m(\u001b[0m\u001b[0;34m\"The original tuple 2 : \"\u001b[0m \u001b[0;34m+\u001b[0m \u001b[0mstr\u001b[0m\u001b[0;34m(\u001b[0m\u001b[0mtest_tup2\u001b[0m\u001b[0;34m)\u001b[0m\u001b[0;34m)\u001b[0m\u001b[0;34m\u001b[0m\u001b[0;34m\u001b[0m\u001b[0m\n\u001b[1;32m     10\u001b[0m \u001b[0;34m\u001b[0m\u001b[0m\n",
            "\u001b[0;31mTypeError\u001b[0m: 'list' object is not callable"
          ]
        }
      ],
      "source": [
        "# 23. Write a code to concatenate two tuples. The function should take two tuples as input and return a new\n",
        "#tuple containing elements from both input tuples\n",
        "# initialize tuples\n",
        "test_tup1 = (3, 4)\n",
        "test_tup2 = (5, 6)\n",
        "\n",
        "# printing original tuples\n",
        "print(\"The original tuple 1 : \" + str(test_tup1))\n",
        "print(\"The original tuple 2 : \" + str(test_tup2))\n",
        "\n",
        "# Concatenating tuples to nested tuples\n",
        "# Using \",\" operator during concatenation\n",
        "res = test_tup1 + test_tup2\n",
        "\n",
        "# printing result\n",
        "print(\"Tuples after Concatenating : \" + str(res))"
      ]
    },
    {
      "cell_type": "code",
      "execution_count": null,
      "metadata": {
        "id": "i-IddgmBvc8E"
      },
      "outputs": [],
      "source": [
        "# 24. Develop a code that prompts the user to input two sets of strings. Then, print the elements that are\n",
        "# present in the first set but not in the second set\n",
        "a = \"rohan\"\n",
        "b = \"mohali\"\n",
        "\n",
        "result = set(a)-set(b)\n",
        "print(result)"
      ]
    },
    {
      "cell_type": "code",
      "execution_count": null,
      "metadata": {
        "id": "7npuP8lKvdDV"
      },
      "outputs": [],
      "source": [
        "# 25. Create a code that takes a tuple and two integers as input. The function should return a new tuple\n",
        "# containing elements from the original tuple within the specified range of indices\n",
        "a = [1, 2, 3, 4, 5]\n",
        "res = [(n, n**3) for n in a]\n",
        "print(res)"
      ]
    },
    {
      "cell_type": "code",
      "execution_count": null,
      "metadata": {
        "id": "dAPuFirFvdGU"
      },
      "outputs": [],
      "source": [
        "# 26. Write a code that prompts the user to input two sets of characters. Then, print the union of these two sets\n",
        "A = {2, 4, 5, 6}\n",
        "B = {4, 6, 7, 8}\n",
        "C = {7, 8, 9, 10}\n",
        "\n",
        "print(\"A U B U C:\", A.union(B).union(C))\n",
        "print(\"A U B U C:\", A.union(B, C))"
      ]
    },
    {
      "cell_type": "code",
      "execution_count": null,
      "metadata": {
        "id": "61cxrZi1vdJd"
      },
      "outputs": [],
      "source": [
        "# 27. Develop a code that takes a tuple of integers as input. The function should return the maximum and\n",
        "# minimum values from the tuple using tuple unpacking\n",
        "a, b, c = (100, 200, 300)\n",
        "\n",
        "print(a)\n",
        "print(b)\n",
        "print(c)"
      ]
    },
    {
      "cell_type": "code",
      "execution_count": null,
      "metadata": {
        "id": "jDDnB0bwvdMk"
      },
      "outputs": [],
      "source": [
        "# 28. Create a code that defines two sets of integers. Then, print the union, intersection, and difference of these two sets\n",
        "A = {1, 2, 3, 4}\n",
        "B = {3, 4, 5, 6}\n",
        "res1 = A | B\n",
        "print(\"using '|':\", res1)\n",
        "\n",
        "res2 = A.union(B)\n",
        "print(\"using union():\",res2)"
      ]
    },
    {
      "cell_type": "code",
      "execution_count": null,
      "metadata": {
        "id": "6nbCuJJcvdPt"
      },
      "outputs": [],
      "source": [
        "# 29. Write a code that takes a tuple and an element as input. The function should return the count of\n",
        "# occurrences of the given element in the tuple\n",
        "def Count(tup, en):\n",
        "    return tup.count(enq)\n",
        "tup = (10, 8, 5, 2, 10, 15, 10, 8, 5, 8, 8, 2)\n",
        "enq = 4\n",
        "enq1 = 10\n",
        "enq2 = 8\n",
        "print(Count(tup, enq), \"times\")\n",
        "print(Count(tup, enq1), \"times\")\n",
        "print(Count(tup, enq2), \"times\")"
      ]
    },
    {
      "cell_type": "code",
      "execution_count": null,
      "metadata": {
        "id": "NEdHZOEkvdSl"
      },
      "outputs": [],
      "source": [
        "# 30. Develop a code that prompts the user to input two sets of strings. Then, print the symmetric difference of these two sets\n",
        "set_A = {1, 2, 3, 4, 5}\n",
        "set_B = {6, 7, 3, 9, 4}\n",
        "print(set_A.symmetric_difference(set_B))"
      ]
    },
    {
      "cell_type": "code",
      "execution_count": null,
      "metadata": {
        "id": "hNuinmk5vdVg"
      },
      "outputs": [],
      "source": [
        "# 31. Write a code that takes a list of words as input and returns a dictionary where the keys are unique words\n",
        "# and the values are the frequencies of those words in the input list\n",
        "\n",
        "a = ['apple', 'banana', 'apple', 'orange', 'banana', 'banana']\n",
        "b = {}\n",
        "for c in a:\n",
        "    b[c] = b.get(c, 0) + 1\n",
        "print(b)"
      ]
    },
    {
      "cell_type": "code",
      "execution_count": null,
      "metadata": {
        "id": "tY34CWsu0JQT"
      },
      "outputs": [],
      "source": [
        "# 32. Write a code that takes two dictionaries as input and merges them into a single dictionary. If there are\n",
        "# common keys, the values should be added together\n",
        "\n",
        "from collections import Counter\n",
        "\n",
        "dict1 = {'a': 12, 'for': 25, 'c': 9}\n",
        "dict2 = {'Geeks': 100, 'geek': 200, 'for': 300}\n",
        "\n",
        "Cdict = Counter(dict1) + Counter(dict2)\n",
        "print(Cdict)"
      ]
    },
    {
      "cell_type": "code",
      "execution_count": null,
      "metadata": {
        "id": "fLKIZfLA0JSd"
      },
      "outputs": [],
      "source": [
        "# 33. Write a code to access a value in a nested dictionary. The function should take the dictionary and a list of\n",
        "#keys as input, and return the corresponding value. If any of the keys do not exist in the dictionary, the\n",
        "#function should return None\n",
        "nd = {\n",
        "    \"fruit\": {\n",
        "        \"apple\": {\n",
        "            \"color\": \"red\"\n",
        "        }}}\n",
        "color = nd[\"fruit\"][\"apple\"][\"color\"]\n",
        "print(color)"
      ]
    },
    {
      "cell_type": "code",
      "execution_count": null,
      "metadata": {
        "id": "2AxLRU1Z0JVg"
      },
      "outputs": [],
      "source": [
        "# 34. Write a code that takes a dictionary as input and returns a sorted version of it based on the values. You\n",
        "# can choose whether to sort in ascending or descending order\n",
        "import operator\n",
        "\n",
        "a = {\"Gfg\": 5, \"is\": 7, \"Best\": 2, \"for\": 9, \"geeks\": 8}\n",
        "res = dict(sorted(a.items()))\n",
        "print(res)"
      ]
    },
    {
      "cell_type": "code",
      "execution_count": null,
      "metadata": {
        "id": "YMr4WcoO0JXw"
      },
      "outputs": [],
      "source": [
        "# 35. Write a code that inverts a dictionary, swapping keys and values. Ensure that the inverted dictionary\n",
        "# correctly handles cases where multiple keys have the same value by storing the keys as a list in the inverted dictionary\n",
        "dict1 = {\"a\": 1, \"b\": 2, \"c\": 3, \"d\": 2}\n",
        "dict2 = {}\n",
        "\n",
        "for i in dict1:\n",
        "    dict2.setdefault(dict1[i], []).append(i)\n",
        "\n",
        "print(dict2)"
      ]
    }
  ],
  "metadata": {
    "colab": {
      "provenance": [],
      "toc_visible": true,
      "authorship_tag": "ABX9TyNrani+QyM8dH4R9kCkJjVi",
      "include_colab_link": true
    },
    "kernelspec": {
      "display_name": "Python 3",
      "name": "python3"
    },
    "language_info": {
      "name": "python"
    }
  },
  "nbformat": 4,
  "nbformat_minor": 0
}