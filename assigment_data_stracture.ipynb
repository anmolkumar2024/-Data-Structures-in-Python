{
  "cells": [
    {
      "cell_type": "markdown",
      "metadata": {
        "id": "view-in-github",
        "colab_type": "text"
      },
      "source": [
        "<a href=\"https://colab.research.google.com/github/anmolkumar2024/-Data-Structures-in-Python/blob/main/assigment_data_stracture.ipynb\" target=\"_parent\"><img src=\"https://colab.research.google.com/assets/colab-badge.svg\" alt=\"Open In Colab\"/></a>"
      ]
    },
    {
      "cell_type": "code",
      "execution_count": 38,
      "metadata": {
        "id": "ICUdSHkScI04",
        "colab": {
          "base_uri": "https://localhost:8080/"
        },
        "outputId": "c81f90fc-3d5d-4459-ef32-06809c775b98"
      },
      "outputs": [
        {
          "output_type": "stream",
          "name": "stdout",
          "text": [
            "['interchange', 'information', 'for', 'code', 'standaerd', 'american']\n"
          ]
        }
      ],
      "source": [
        "# 1. Write a code to reverse a string.\n",
        "\n",
        "str = [\"american\",\"standaerd\",\"code\",\"for\",\"information\",\"interchange\"]\n",
        "\n",
        "str.reverse()\n",
        "print(str)"
      ]
    },
    {
      "cell_type": "code",
      "execution_count": 39,
      "metadata": {
        "id": "VvPMfFRvdS4w",
        "colab": {
          "base_uri": "https://localhost:8080/"
        },
        "outputId": "b0ef0471-8f3e-484a-ba03-e7fba751ffda"
      },
      "outputs": [
        {
          "output_type": "stream",
          "name": "stdout",
          "text": [
            "Enter a character: a\n",
            "Vowel count: 1\n"
          ]
        }
      ],
      "source": [
        "# 2. Write a code to count the number of vowels in a string.\n",
        "vowels = \"aeiouAEIOU\"\n",
        "char = input(\"Enter a character: \")\n",
        "count = 0\n",
        "\n",
        "if char in vowels:\n",
        "    count += 1\n",
        "    print(\"Vowel count:\", count)\n",
        "else:\n",
        "    print(\"no\")\n"
      ]
    },
    {
      "cell_type": "code",
      "execution_count": 40,
      "metadata": {
        "id": "qbDvXnacgWYQ",
        "colab": {
          "base_uri": "https://localhost:8080/"
        },
        "outputId": "17b6579e-490c-4776-bca7-047d21d7d645"
      },
      "outputs": [
        {
          "output_type": "stream",
          "name": "stdout",
          "text": [
            "Enter the first string : a\n",
            "Enter the second string : b\n",
            "\n",
            "this string is not palindrome\n"
          ]
        }
      ],
      "source": [
        "# 3. Write a code to check if a given string is a palindrome or not.\n",
        "\n",
        "str1 = input(\"Enter the first string : \")\n",
        "str2 = input(\"Enter the second string : \")\n",
        "print()\n",
        "\n",
        "if(str1 == str2):\n",
        "  print(\" This string is palindrome\")\n",
        "else:\n",
        "  print(\"this string is not palindrome\")\n"
      ]
    },
    {
      "cell_type": "code",
      "execution_count": 41,
      "metadata": {
        "id": "szFAOsZwvb8k",
        "colab": {
          "base_uri": "https://localhost:8080/"
        },
        "outputId": "c6143073-82bc-447f-db41-948a91e9b125"
      },
      "outputs": [
        {
          "output_type": "stream",
          "name": "stdout",
          "text": [
            "yes\n"
          ]
        }
      ],
      "source": [
        "# 4. Write a code to check if two given strings are anagrams of each other..\n",
        "\n",
        "str1 = \"Act\"\n",
        "str2 = \"cAt\"\n",
        "\n",
        "if sorted(str1) == sorted(str2):\n",
        "  print(\"yes\")\n",
        "\n",
        "else:\n",
        "  print(\"no\")\n"
      ]
    },
    {
      "cell_type": "code",
      "execution_count": 42,
      "metadata": {
        "id": "WkKJQKg-vb_t",
        "colab": {
          "base_uri": "https://localhost:8080/"
        },
        "outputId": "c4a28b4d-b52d-46a8-c505-9f9725b40aaa"
      },
      "outputs": [
        {
          "output_type": "stream",
          "name": "stdout",
          "text": [
            "[0, 13]\n"
          ]
        }
      ],
      "source": [
        "# 5 Write a code to find all occurrences of a given substring within another string.\n",
        "import re\n",
        "\n",
        "# Define the input string and substring\n",
        "s = \"hello world, hello universe\"\n",
        "substring = \"hello\"\n",
        "\n",
        "# Find all occurrences using re.finditer\n",
        "positions = [match.start() for match in re.finditer(substring, s)]\n",
        "\n",
        "print(positions)"
      ]
    },
    {
      "cell_type": "markdown",
      "source": [],
      "metadata": {
        "id": "kIly4NRhBNi3"
      }
    },
    {
      "cell_type": "code",
      "execution_count": 43,
      "metadata": {
        "id": "2IQPZQRevcGu",
        "colab": {
          "base_uri": "https://localhost:8080/"
        },
        "outputId": "1c8558ed-5f75-4807-e89a-f384291d8760"
      },
      "outputs": [
        {
          "output_type": "stream",
          "name": "stdout",
          "text": [
            "True\n"
          ]
        }
      ],
      "source": [
        "# 7. Write a code to determine if a string has all unique characters.\n",
        "from collections import Counter\n",
        "\n",
        "\n",
        "def isUniqueChars(string):\n",
        "\n",
        "    # Counting frequency\n",
        "    freq = Counter(string)\n",
        "\n",
        "    if(len(freq) == len(string)):\n",
        "        return True\n",
        "    else:\n",
        "        return False\n",
        "\n",
        "# driver code\n",
        "st = \"abcd\"\n",
        "print(isUniqueChars(st))\n",
        "\n"
      ]
    },
    {
      "cell_type": "code",
      "execution_count": 44,
      "metadata": {
        "id": "_PvAZGvMvcJu",
        "colab": {
          "base_uri": "https://localhost:8080/"
        },
        "outputId": "4b78108b-df61-4bc8-a5e3-77f22bc9a3ba"
      },
      "outputs": [
        {
          "output_type": "stream",
          "name": "stdout",
          "text": [
            "I LOVE INDIA\n",
            "\n",
            "i love india\n"
          ]
        }
      ],
      "source": [
        "# 8.Write a code to convert a given string to uppercase or lowercase\n",
        "\n",
        "str1 = \"i love india\"\n",
        "s = str1.upper()\n",
        "print(s)\n",
        "\n",
        "print()\n",
        "\n",
        "str2 = \"I LOVE INDIA\"\n",
        "s1 = str2.lower()\n",
        "print(s1)"
      ]
    },
    {
      "cell_type": "code",
      "execution_count": 45,
      "metadata": {
        "id": "6r4PXggSvcOS",
        "colab": {
          "base_uri": "https://localhost:8080/"
        },
        "outputId": "aabb7e7d-8366-41a5-fb7f-585593ef4705"
      },
      "outputs": [
        {
          "output_type": "stream",
          "name": "stdout",
          "text": [
            "3\n"
          ]
        }
      ],
      "source": [
        "# 9. Write a code to count the number of words in a string\n",
        "\n",
        "word = (\"banana\",\"apple\",\"banana\",\"orange\",\"banana\",\"mango\")\n",
        "s = word.count(\"banana\")\n",
        "print(s)"
      ]
    },
    {
      "cell_type": "code",
      "execution_count": 46,
      "metadata": {
        "id": "mgk3ExHMvcS-",
        "colab": {
          "base_uri": "https://localhost:8080/"
        },
        "outputId": "99288157-7256-4e72-bc71-c8450b889e39"
      },
      "outputs": [
        {
          "output_type": "stream",
          "name": "stdout",
          "text": [
            "DATA,ANALYTICS\n"
          ]
        }
      ],
      "source": [
        "# 10. Write a code to concatenate two strings without using the + operator\n",
        "\n",
        "str1 = \"DATA\"\n",
        "str2 = \"ANALYTICS\"\n",
        "str3 =\"{},{}\".format(str1,str2)\n",
        "print(str3)"
      ]
    },
    {
      "cell_type": "code",
      "execution_count": 47,
      "metadata": {
        "id": "1tYhC5vqvcVt",
        "colab": {
          "base_uri": "https://localhost:8080/"
        },
        "outputId": "fb49c7f5-5eae-46a8-8d46-fe7d548b3d32"
      },
      "outputs": [
        {
          "output_type": "stream",
          "name": "stdout",
          "text": [
            "['I AM FROM INDIA']\n"
          ]
        }
      ],
      "source": [
        "# 11. Write a code to remove all occurrences of a specific element from a list\n",
        "\n",
        "name = [\"I AM FROM INDIA\",\"UNITED STATE\"]\n",
        "name.remove(\"UNITED STATE\")\n",
        "print(name)"
      ]
    },
    {
      "cell_type": "code",
      "execution_count": 48,
      "metadata": {
        "id": "FiS-mzT6vcYX",
        "colab": {
          "base_uri": "https://localhost:8080/"
        },
        "outputId": "a7dcb24d-ec94-45a0-d7de-fa951fb7d36f"
      },
      "outputs": [
        {
          "output_type": "stream",
          "name": "stdout",
          "text": [
            "[11, 22, 33, 44, 555]\n",
            "second largest number is: 44\n"
          ]
        }
      ],
      "source": [
        "# 12. Implement a code to find the second largest number in a given list of integers\n",
        "\n",
        "num  = [11,22,33,44,555]\n",
        "num.sort()\n",
        "print(num)\n",
        "print(\"second largest number is:\",num[-2])\n",
        "\n",
        "\n"
      ]
    },
    {
      "cell_type": "code",
      "execution_count": 49,
      "metadata": {
        "id": "YZrHJsXHvca-",
        "colab": {
          "base_uri": "https://localhost:8080/"
        },
        "outputId": "6409c76f-86df-4b68-8c58-0a478272d69b"
      },
      "outputs": [
        {
          "output_type": "stream",
          "name": "stdout",
          "text": [
            "{'apple': 3, 'banana': 2, 'orange': 1}\n"
          ]
        }
      ],
      "source": [
        "# 13. Create a code to count the occurrences of each element in a list and return a dictionary\n",
        "#     with elements as keys and their counts as values\n",
        "def count_elements(lst):\n",
        "    count_dict = {}\n",
        "    for item in lst:\n",
        "        if item in count_dict:\n",
        "            count_dict[item] += 1\n",
        "        else:\n",
        "            count_dict[item] = 1\n",
        "    return count_dict\n",
        "\n",
        "# Example usage\n",
        "my_list = ['apple', 'banana', 'apple', 'orange', 'banana', 'apple']\n",
        "result = count_elements(my_list)\n",
        "print(result)\n",
        "\n",
        "\n",
        "\n"
      ]
    },
    {
      "cell_type": "code",
      "execution_count": 50,
      "metadata": {
        "id": "8yBjuR4Vvcdl",
        "colab": {
          "base_uri": "https://localhost:8080/"
        },
        "outputId": "26a68b6b-bb4f-4cf3-d7c9-4579ceb04c66"
      },
      "outputs": [
        {
          "output_type": "stream",
          "name": "stdout",
          "text": [
            "[5, 4, 3, 2, 1]\n"
          ]
        }
      ],
      "source": [
        "# 14. Write a code to reverse a list in-place without using any built-in reverse functions\n",
        "a = [1, 2, 3, 4, 5]\n",
        "\n",
        "# Reversing using slicing\n",
        "a_reversed = a[::-1]\n",
        "print(a_reversed)"
      ]
    },
    {
      "cell_type": "code",
      "execution_count": 51,
      "metadata": {
        "id": "y7_EoYpIvcgM",
        "colab": {
          "base_uri": "https://localhost:8080/"
        },
        "outputId": "eb1e2c75-c408-4b0e-90f0-8297b16907f7"
      },
      "outputs": [
        {
          "output_type": "stream",
          "name": "stdout",
          "text": [
            "[1, 2, 3, 4, 5]\n"
          ]
        }
      ],
      "source": [
        "# 15. Implement a code to find and remove duplicates from a list while preserving the original order of elements\n",
        "a = [1, 2, 2, 3, 4, 4, 5]\n",
        "\n",
        "b = list(dict.fromkeys(a))\n",
        "print(b)"
      ]
    },
    {
      "cell_type": "code",
      "execution_count": 52,
      "metadata": {
        "id": "JWgR3rONvclO",
        "colab": {
          "base_uri": "https://localhost:8080/"
        },
        "outputId": "6400c26e-114e-4a01-850d-b36562b7754a"
      },
      "outputs": [
        {
          "output_type": "stream",
          "name": "stdout",
          "text": [
            "True\n",
            "False\n"
          ]
        }
      ],
      "source": [
        "# 16. Create a code to check if a given list is sorted (either in ascending or descending order) or not\n",
        "a = [1, 2, 3, 4, 5]\n",
        "b = [5, 4, 3, 2, 1]\n",
        "\n",
        "# Here, sorted(), sort list in ascending order\n",
        "print(a == sorted(a))\n",
        "print(b == sorted(b))"
      ]
    },
    {
      "cell_type": "code",
      "execution_count": 53,
      "metadata": {
        "id": "wwE_SgD-vcpd",
        "colab": {
          "base_uri": "https://localhost:8080/"
        },
        "outputId": "d4d49cda-9bf9-4309-a4c8-a227febc39b8"
      },
      "outputs": [
        {
          "output_type": "stream",
          "name": "stdout",
          "text": [
            "[1, 2, 3, 4, 5, 6]\n"
          ]
        }
      ],
      "source": [
        "# 17. Write a code to merge two sorted lists into a single sorted list\n",
        "a = [1, 3, 5]\n",
        "b = [2, 4, 6]\n",
        "\n",
        "c = sorted(a + b)\n",
        "print(c)"
      ]
    },
    {
      "cell_type": "code",
      "execution_count": 54,
      "metadata": {
        "id": "U5PGLdoevcsH",
        "colab": {
          "base_uri": "https://localhost:8080/"
        },
        "outputId": "4a4ef7ae-ddd0-40f4-8604-f92deaaf2e3e"
      },
      "outputs": [
        {
          "output_type": "stream",
          "name": "stdout",
          "text": [
            "[9, 26, 11, 28]\n"
          ]
        }
      ],
      "source": [
        "# 18. Implement a code to find the intersection of two given lists\n",
        "a = [4, 9, 1, 17, 11, 26, 28, 54, 69]\n",
        "b = [9, 9, 74, 21, 45, 11, 63, 28, 26]\n",
        "\n",
        "res = list(set(a) & set(b))\n",
        "print(res)"
      ]
    },
    {
      "cell_type": "code",
      "execution_count": 55,
      "metadata": {
        "id": "4nh6bOQrvcun",
        "colab": {
          "base_uri": "https://localhost:8080/"
        },
        "outputId": "a12e448d-3ad8-474b-b635-95a3bc8b9688"
      },
      "outputs": [
        {
          "output_type": "stream",
          "name": "stdout",
          "text": [
            "[1, 2, 3, 4, 3, 4, 5, 6]\n"
          ]
        }
      ],
      "source": [
        "# 19. Create a code to find the union of two lists without duplicates\n",
        "a = [1, 2, 3, 4]\n",
        "b = [3, 4, 5, 6]\n",
        "\n",
        "# Concatenate the lists\n",
        "union_list = a + b\n",
        "\n",
        "print(union_list)"
      ]
    },
    {
      "cell_type": "code",
      "execution_count": 56,
      "metadata": {
        "id": "LwYCM5IYvcxl",
        "colab": {
          "base_uri": "https://localhost:8080/"
        },
        "outputId": "b9e0e9a7-ef96-43e2-e994-0786f00af822"
      },
      "outputs": [
        {
          "output_type": "stream",
          "name": "stdout",
          "text": [
            "[4, 5, 1, 2, 3]\n"
          ]
        }
      ],
      "source": [
        "# 20. Write a code to shuffle a given list randomly without using any built-in shuffle functions\n",
        "import random\n",
        "\n",
        "a = [1, 2, 3, 4, 5]\n",
        "random.shuffle(a)\n",
        "print(a)"
      ]
    },
    {
      "cell_type": "code",
      "execution_count": 57,
      "metadata": {
        "id": "GlSfrYCgvc0J",
        "colab": {
          "base_uri": "https://localhost:8080/"
        },
        "outputId": "52c8ebb9-a8ee-43c2-e40d-55f2dcd2232c"
      },
      "outputs": [
        {
          "output_type": "stream",
          "name": "stdout",
          "text": [
            "[(4, 7), (7, 4), (4, 8), (8, 4), (5, 7), (7, 5), (5, 8), (8, 5)]\n"
          ]
        }
      ],
      "source": [
        "# 21. Write a code that takes two tuples as input and returns a new tuple containing elements that are common to both input tuples\n",
        "# input\n",
        "tuple1 = (4, 5)\n",
        "tuple2 = (7, 8)\n",
        "\n",
        "filtered_tuples = []\n",
        "\n",
        "for element1 in tuple1:\n",
        "    for element2 in tuple2:\n",
        "\n",
        "        filtered_tuples.append((element1, element2))\n",
        "\n",
        "        filtered_tuples.append((element2, element1))\n",
        "print(filtered_tuples)"
      ]
    },
    {
      "cell_type": "code",
      "execution_count": 58,
      "metadata": {
        "id": "Y5fmf_eivc2w",
        "colab": {
          "base_uri": "https://localhost:8080/"
        },
        "outputId": "8a9a6488-1da1-406a-c33e-90717fb73e2b"
      },
      "outputs": [
        {
          "output_type": "stream",
          "name": "stdout",
          "text": [
            "{2, 3}\n"
          ]
        }
      ],
      "source": [
        "# 22. Create a code that prompts the user to enter two sets of integers separated by commas. Then, print the intersection of these two sets\n",
        "s1 = {1, 2, 3}\n",
        "s2 = {2, 3}\n",
        "print(s1.intersection(s2))"
      ]
    },
    {
      "cell_type": "code",
      "execution_count": 60,
      "metadata": {
        "id": "28sNFU9Uvc5e",
        "colab": {
          "base_uri": "https://localhost:8080/"
        },
        "collapsed": true,
        "outputId": "599811a3-7bc7-469f-e8b2-3a7888082363"
      },
      "outputs": [
        {
          "output_type": "stream",
          "name": "stdout",
          "text": [
            "Concatenated Tuple: (1, 2, 3, 4)\n"
          ]
        }
      ],
      "source": [
        "# 23. Write a code to concatenate two tuples. The function should take two tuples as input and return a new\n",
        "#tuple containing elements from both input tuples\n",
        "\n",
        "tuple1 = (1, 2)\n",
        "tuple2 = (3, 4)\n",
        "\n",
        "\n",
        "result = tuple1 + tuple2\n",
        "\n",
        "print(\"Concatenated Tuple:\", result)\n"
      ]
    },
    {
      "cell_type": "code",
      "execution_count": null,
      "metadata": {
        "id": "i-IddgmBvc8E"
      },
      "outputs": [],
      "source": [
        "# 24. Develop a code that prompts the user to input two sets of strings. Then, print the elements that are\n",
        "# present in the first set but not in the second set\n",
        "a = \"rohan\"\n",
        "b = \"mohali\"\n",
        "\n",
        "result = set(a)-set(b)\n",
        "print(result)"
      ]
    },
    {
      "cell_type": "code",
      "execution_count": null,
      "metadata": {
        "id": "7npuP8lKvdDV"
      },
      "outputs": [],
      "source": [
        "# 25. Create a code that takes a tuple and two integers as input. The function should return a new tuple\n",
        "# containing elements from the original tuple within the specified range of indices\n",
        "a = [1, 2, 3, 4, 5]\n",
        "res = [(n, n**3) for n in a]\n",
        "print(res)"
      ]
    },
    {
      "cell_type": "code",
      "execution_count": null,
      "metadata": {
        "id": "dAPuFirFvdGU"
      },
      "outputs": [],
      "source": [
        "# 26. Write a code that prompts the user to input two sets of characters. Then, print the union of these two sets\n",
        "A = {2, 4, 5, 6}\n",
        "B = {4, 6, 7, 8}\n",
        "C = {7, 8, 9, 10}\n",
        "\n",
        "print(\"A U B U C:\", A.union(B).union(C))\n",
        "print(\"A U B U C:\", A.union(B, C))"
      ]
    },
    {
      "cell_type": "code",
      "execution_count": null,
      "metadata": {
        "id": "61cxrZi1vdJd"
      },
      "outputs": [],
      "source": [
        "# 27. Develop a code that takes a tuple of integers as input. The function should return the maximum and\n",
        "# minimum values from the tuple using tuple unpacking\n",
        "a, b, c = (100, 200, 300)\n",
        "\n",
        "print(a)\n",
        "print(b)\n",
        "print(c)"
      ]
    },
    {
      "cell_type": "code",
      "execution_count": null,
      "metadata": {
        "id": "jDDnB0bwvdMk"
      },
      "outputs": [],
      "source": [
        "# 28. Create a code that defines two sets of integers. Then, print the union, intersection, and difference of these two sets\n",
        "A = {1, 2, 3, 4}\n",
        "B = {3, 4, 5, 6}\n",
        "res1 = A | B\n",
        "print(\"using '|':\", res1)\n",
        "\n",
        "res2 = A.union(B)\n",
        "print(\"using union():\",res2)"
      ]
    },
    {
      "cell_type": "code",
      "execution_count": null,
      "metadata": {
        "id": "6nbCuJJcvdPt"
      },
      "outputs": [],
      "source": [
        "# 29. Write a code that takes a tuple and an element as input. The function should return the count of\n",
        "# occurrences of the given element in the tuple\n",
        "def Count(tup, en):\n",
        "    return tup.count(enq)\n",
        "tup = (10, 8, 5, 2, 10, 15, 10, 8, 5, 8, 8, 2)\n",
        "enq = 4\n",
        "enq1 = 10\n",
        "enq2 = 8\n",
        "print(Count(tup, enq), \"times\")\n",
        "print(Count(tup, enq1), \"times\")\n",
        "print(Count(tup, enq2), \"times\")"
      ]
    },
    {
      "cell_type": "code",
      "execution_count": null,
      "metadata": {
        "id": "NEdHZOEkvdSl"
      },
      "outputs": [],
      "source": [
        "# 30. Develop a code that prompts the user to input two sets of strings. Then, print the symmetric difference of these two sets\n",
        "set_A = {1, 2, 3, 4, 5}\n",
        "set_B = {6, 7, 3, 9, 4}\n",
        "print(set_A.symmetric_difference(set_B))"
      ]
    },
    {
      "cell_type": "code",
      "execution_count": null,
      "metadata": {
        "id": "hNuinmk5vdVg"
      },
      "outputs": [],
      "source": [
        "# 31. Write a code that takes a list of words as input and returns a dictionary where the keys are unique words\n",
        "# and the values are the frequencies of those words in the input list\n",
        "\n",
        "a = ['apple', 'banana', 'apple', 'orange', 'banana', 'banana']\n",
        "b = {}\n",
        "for c in a:\n",
        "    b[c] = b.get(c, 0) + 1\n",
        "print(b)"
      ]
    },
    {
      "cell_type": "code",
      "execution_count": null,
      "metadata": {
        "id": "tY34CWsu0JQT"
      },
      "outputs": [],
      "source": [
        "# 32. Write a code that takes two dictionaries as input and merges them into a single dictionary. If there are\n",
        "# common keys, the values should be added together\n",
        "\n",
        "from collections import Counter\n",
        "\n",
        "dict1 = {'a': 12, 'for': 25, 'c': 9}\n",
        "dict2 = {'Geeks': 100, 'geek': 200, 'for': 300}\n",
        "\n",
        "Cdict = Counter(dict1) + Counter(dict2)\n",
        "print(Cdict)"
      ]
    },
    {
      "cell_type": "code",
      "execution_count": null,
      "metadata": {
        "id": "fLKIZfLA0JSd"
      },
      "outputs": [],
      "source": [
        "# 33. Write a code to access a value in a nested dictionary. The function should take the dictionary and a list of\n",
        "#keys as input, and return the corresponding value. If any of the keys do not exist in the dictionary, the\n",
        "#function should return None\n",
        "nd = {\n",
        "    \"fruit\": {\n",
        "        \"apple\": {\n",
        "            \"color\": \"red\"\n",
        "        }}}\n",
        "color = nd[\"fruit\"][\"apple\"][\"color\"]\n",
        "print(color)"
      ]
    },
    {
      "cell_type": "code",
      "execution_count": null,
      "metadata": {
        "id": "2AxLRU1Z0JVg"
      },
      "outputs": [],
      "source": [
        "# 34. Write a code that takes a dictionary as input and returns a sorted version of it based on the values. You\n",
        "# can choose whether to sort in ascending or descending order\n",
        "import operator\n",
        "\n",
        "a = {\"Gfg\": 5, \"is\": 7, \"Best\": 2, \"for\": 9, \"geeks\": 8}\n",
        "res = dict(sorted(a.items()))\n",
        "print(res)"
      ]
    },
    {
      "cell_type": "code",
      "execution_count": null,
      "metadata": {
        "id": "YMr4WcoO0JXw"
      },
      "outputs": [],
      "source": [
        "# 35. Write a code that inverts a dictionary, swapping keys and values. Ensure that the inverted dictionary\n",
        "# correctly handles cases where multiple keys have the same value by storing the keys as a list in the inverted dictionary\n",
        "dict1 = {\"a\": 1, \"b\": 2, \"c\": 3, \"d\": 2}\n",
        "dict2 = {}\n",
        "\n",
        "for i in dict1:\n",
        "    dict2.setdefault(dict1[i], []).append(i)\n",
        "\n",
        "print(dict2)"
      ]
    }
  ],
  "metadata": {
    "colab": {
      "provenance": [],
      "toc_visible": true,
      "authorship_tag": "ABX9TyMlswbBKZecaXJOPGHXzVEy",
      "include_colab_link": true
    },
    "kernelspec": {
      "display_name": "Python 3",
      "name": "python3"
    },
    "language_info": {
      "name": "python"
    }
  },
  "nbformat": 4,
  "nbformat_minor": 0
}